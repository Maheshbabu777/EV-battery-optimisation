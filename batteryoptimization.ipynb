{
 "cells": [
  {
   "cell_type": "code",
   "execution_count": 3,
   "id": "721d66c3-5287-4ca6-a4e4-427bcd8471fc",
   "metadata": {},
   "outputs": [],
   "source": [
    "import pandas as pd\n",
    "import pickle\n",
    "import numpy as np\n",
    "import seaborn as sns\n",
    "import matplotlib.pyplot as plt\n",
    "from sklearn.model_selection import train_test_split\n",
    "from sklearn.ensemble import RandomForestClassifier\n",
    "from imblearn.over_sampling import SMOTE\n",
    "from sklearn.preprocessing import LabelEncoder, StandardScaler\n",
    "from sklearn.metrics import accuracy_score, confusion_matrix"
   ]
  },
  {
   "cell_type": "code",
   "execution_count": 4,
   "id": "2161e6f8-c7f5-49b6-8494-77b1e9344137",
   "metadata": {},
   "outputs": [],
   "source": [
    "df=pd.read_csv(\"dataset/ev_battery_charging_data.csv\")"
   ]
  },
  {
   "cell_type": "code",
   "execution_count": 5,
   "id": "e9daac1e-fcc3-4077-8b83-19da7ffa80c5",
   "metadata": {},
   "outputs": [
    {
     "name": "stdout",
     "output_type": "stream",
     "text": [
      "Index(['SOC (%)', 'Voltage (V)', 'Current (A)', 'Battery Temp (°C)',\n",
      "       'Ambient Temp (°C)', 'Charging Duration (min)', 'Degradation Rate (%)',\n",
      "       'Charging Mode', 'Efficiency (%)', 'Battery Type', 'Charging Cycles',\n",
      "       'EV Model', 'Optimal Charging Duration Class'],\n",
      "      dtype='object')\n"
     ]
    }
   ],
   "source": [
    "print(df.columns)"
   ]
  },
  {
   "cell_type": "code",
   "execution_count": 6,
   "id": "5d38459f-c368-47df-8a41-1ddc16203e6a",
   "metadata": {},
   "outputs": [
    {
     "data": {
      "text/html": [
       "<div>\n",
       "<style scoped>\n",
       "    .dataframe tbody tr th:only-of-type {\n",
       "        vertical-align: middle;\n",
       "    }\n",
       "\n",
       "    .dataframe tbody tr th {\n",
       "        vertical-align: top;\n",
       "    }\n",
       "\n",
       "    .dataframe thead th {\n",
       "        text-align: right;\n",
       "    }\n",
       "</style>\n",
       "<table border=\"1\" class=\"dataframe\">\n",
       "  <thead>\n",
       "    <tr style=\"text-align: right;\">\n",
       "      <th></th>\n",
       "      <th>SOC (%)</th>\n",
       "      <th>Voltage (V)</th>\n",
       "      <th>Current (A)</th>\n",
       "      <th>Battery Temp (°C)</th>\n",
       "      <th>Ambient Temp (°C)</th>\n",
       "      <th>Charging Duration (min)</th>\n",
       "      <th>Degradation Rate (%)</th>\n",
       "      <th>Charging Mode</th>\n",
       "      <th>Efficiency (%)</th>\n",
       "      <th>Battery Type</th>\n",
       "      <th>Charging Cycles</th>\n",
       "      <th>EV Model</th>\n",
       "      <th>Optimal Charging Duration Class</th>\n",
       "    </tr>\n",
       "  </thead>\n",
       "  <tbody>\n",
       "    <tr>\n",
       "      <th>0</th>\n",
       "      <td>43.708611</td>\n",
       "      <td>3.629593</td>\n",
       "      <td>33.553512</td>\n",
       "      <td>33.454060</td>\n",
       "      <td>26.439918</td>\n",
       "      <td>59.363552</td>\n",
       "      <td>8.805096</td>\n",
       "      <td>Fast</td>\n",
       "      <td>98.238981</td>\n",
       "      <td>Li-ion</td>\n",
       "      <td>112</td>\n",
       "      <td>Model B</td>\n",
       "      <td>1</td>\n",
       "    </tr>\n",
       "    <tr>\n",
       "      <th>1</th>\n",
       "      <td>95.564288</td>\n",
       "      <td>3.879331</td>\n",
       "      <td>32.228092</td>\n",
       "      <td>35.933628</td>\n",
       "      <td>31.108647</td>\n",
       "      <td>67.343566</td>\n",
       "      <td>12.186860</td>\n",
       "      <td>Fast</td>\n",
       "      <td>97.562628</td>\n",
       "      <td>LiFePO4</td>\n",
       "      <td>398</td>\n",
       "      <td>Model A</td>\n",
       "      <td>1</td>\n",
       "    </tr>\n",
       "    <tr>\n",
       "      <th>2</th>\n",
       "      <td>75.879455</td>\n",
       "      <td>4.111062</td>\n",
       "      <td>91.562912</td>\n",
       "      <td>25.009358</td>\n",
       "      <td>30.203219</td>\n",
       "      <td>105.454739</td>\n",
       "      <td>13.832336</td>\n",
       "      <td>Slow</td>\n",
       "      <td>97.233533</td>\n",
       "      <td>LiFePO4</td>\n",
       "      <td>175</td>\n",
       "      <td>Model A</td>\n",
       "      <td>2</td>\n",
       "    </tr>\n",
       "    <tr>\n",
       "      <th>3</th>\n",
       "      <td>63.879264</td>\n",
       "      <td>4.012557</td>\n",
       "      <td>32.459158</td>\n",
       "      <td>32.497482</td>\n",
       "      <td>18.077998</td>\n",
       "      <td>54.000439</td>\n",
       "      <td>9.318874</td>\n",
       "      <td>Fast</td>\n",
       "      <td>98.136225</td>\n",
       "      <td>LiFePO4</td>\n",
       "      <td>150</td>\n",
       "      <td>Model B</td>\n",
       "      <td>1</td>\n",
       "    </tr>\n",
       "    <tr>\n",
       "      <th>4</th>\n",
       "      <td>24.041678</td>\n",
       "      <td>4.064593</td>\n",
       "      <td>34.475475</td>\n",
       "      <td>31.434920</td>\n",
       "      <td>17.984989</td>\n",
       "      <td>106.964968</td>\n",
       "      <td>11.687577</td>\n",
       "      <td>Fast</td>\n",
       "      <td>97.662485</td>\n",
       "      <td>Li-ion</td>\n",
       "      <td>886</td>\n",
       "      <td>Model C</td>\n",
       "      <td>2</td>\n",
       "    </tr>\n",
       "  </tbody>\n",
       "</table>\n",
       "</div>"
      ],
      "text/plain": [
       "     SOC (%)  Voltage (V)  Current (A)  Battery Temp (°C)  Ambient Temp (°C)  \\\n",
       "0  43.708611     3.629593    33.553512          33.454060          26.439918   \n",
       "1  95.564288     3.879331    32.228092          35.933628          31.108647   \n",
       "2  75.879455     4.111062    91.562912          25.009358          30.203219   \n",
       "3  63.879264     4.012557    32.459158          32.497482          18.077998   \n",
       "4  24.041678     4.064593    34.475475          31.434920          17.984989   \n",
       "\n",
       "   Charging Duration (min)  Degradation Rate (%) Charging Mode  \\\n",
       "0                59.363552              8.805096          Fast   \n",
       "1                67.343566             12.186860          Fast   \n",
       "2               105.454739             13.832336          Slow   \n",
       "3                54.000439              9.318874          Fast   \n",
       "4               106.964968             11.687577          Fast   \n",
       "\n",
       "   Efficiency (%) Battery Type  Charging Cycles EV Model  \\\n",
       "0       98.238981       Li-ion              112  Model B   \n",
       "1       97.562628      LiFePO4              398  Model A   \n",
       "2       97.233533      LiFePO4              175  Model A   \n",
       "3       98.136225      LiFePO4              150  Model B   \n",
       "4       97.662485       Li-ion              886  Model C   \n",
       "\n",
       "   Optimal Charging Duration Class  \n",
       "0                                1  \n",
       "1                                1  \n",
       "2                                2  \n",
       "3                                1  \n",
       "4                                2  "
      ]
     },
     "execution_count": 6,
     "metadata": {},
     "output_type": "execute_result"
    }
   ],
   "source": [
    "df.head()"
   ]
  },
  {
   "cell_type": "code",
   "execution_count": 7,
   "id": "5c54a998-c0f2-43e0-96bf-bf894e2264e6",
   "metadata": {},
   "outputs": [
    {
     "data": {
      "text/plain": [
       "SOC (%)                            0\n",
       "Voltage (V)                        0\n",
       "Current (A)                        0\n",
       "Battery Temp (°C)                  0\n",
       "Ambient Temp (°C)                  0\n",
       "Charging Duration (min)            0\n",
       "Degradation Rate (%)               0\n",
       "Charging Mode                      0\n",
       "Efficiency (%)                     0\n",
       "Battery Type                       0\n",
       "Charging Cycles                    0\n",
       "EV Model                           0\n",
       "Optimal Charging Duration Class    0\n",
       "dtype: int64"
      ]
     },
     "execution_count": 7,
     "metadata": {},
     "output_type": "execute_result"
    }
   ],
   "source": [
    "df.isnull().sum()"
   ]
  },
  {
   "cell_type": "code",
   "execution_count": 8,
   "id": "df2439fb-67f2-4767-a96d-50b0f5935076",
   "metadata": {},
   "outputs": [
    {
     "name": "stdout",
     "output_type": "stream",
     "text": [
      "Empty DataFrame\n",
      "Columns: [SOC (%), Voltage (V), Current (A), Battery Temp (°C), Ambient Temp (°C), Charging Duration (min), Degradation Rate (%), Charging Mode, Efficiency (%), Battery Type, Charging Cycles, EV Model, Optimal Charging Duration Class]\n",
      "Index: []\n"
     ]
    }
   ],
   "source": [
    "dup=df[df.duplicated()]\n",
    "print(dup)"
   ]
  },
  {
   "cell_type": "raw",
   "id": "aa48aa25-dcff-4f23-85e8-95d84cc52ed4",
   "metadata": {},
   "source": [
    "df.drop_duplicates()"
   ]
  },
  {
   "cell_type": "code",
   "execution_count": 9,
   "id": "29351944-3843-47e1-960d-ef4d01c1bd14",
   "metadata": {},
   "outputs": [],
   "source": [
    "for col in df.columns:\n",
    "    if df[col].dtype == 'object':\n",
    "        df[col] = df[col].fillna(df[col].mode()[0])\n",
    "    else:\n",
    "        df[col] = df[col].fillna(df[col].median(skipna=True))"
   ]
  },
  {
   "cell_type": "code",
   "execution_count": 10,
   "id": "f5898b62-7dd1-44d4-b8f1-d19544bbcadb",
   "metadata": {},
   "outputs": [
    {
     "name": "stdout",
     "output_type": "stream",
     "text": [
      "Dataset is cleaned\n"
     ]
    },
    {
     "data": {
      "text/html": [
       "<div>\n",
       "<style scoped>\n",
       "    .dataframe tbody tr th:only-of-type {\n",
       "        vertical-align: middle;\n",
       "    }\n",
       "\n",
       "    .dataframe tbody tr th {\n",
       "        vertical-align: top;\n",
       "    }\n",
       "\n",
       "    .dataframe thead th {\n",
       "        text-align: right;\n",
       "    }\n",
       "</style>\n",
       "<table border=\"1\" class=\"dataframe\">\n",
       "  <thead>\n",
       "    <tr style=\"text-align: right;\">\n",
       "      <th></th>\n",
       "      <th>SOC (%)</th>\n",
       "      <th>Voltage (V)</th>\n",
       "      <th>Current (A)</th>\n",
       "      <th>Battery Temp (°C)</th>\n",
       "      <th>Ambient Temp (°C)</th>\n",
       "      <th>Charging Duration (min)</th>\n",
       "      <th>Degradation Rate (%)</th>\n",
       "      <th>Charging Mode</th>\n",
       "      <th>Efficiency (%)</th>\n",
       "      <th>Battery Type</th>\n",
       "      <th>Charging Cycles</th>\n",
       "      <th>EV Model</th>\n",
       "      <th>Optimal Charging Duration Class</th>\n",
       "    </tr>\n",
       "  </thead>\n",
       "  <tbody>\n",
       "    <tr>\n",
       "      <th>0</th>\n",
       "      <td>43.708611</td>\n",
       "      <td>3.629593</td>\n",
       "      <td>33.553512</td>\n",
       "      <td>33.454060</td>\n",
       "      <td>26.439918</td>\n",
       "      <td>59.363552</td>\n",
       "      <td>8.805096</td>\n",
       "      <td>Fast</td>\n",
       "      <td>98.238981</td>\n",
       "      <td>Li-ion</td>\n",
       "      <td>112</td>\n",
       "      <td>Model B</td>\n",
       "      <td>1</td>\n",
       "    </tr>\n",
       "    <tr>\n",
       "      <th>1</th>\n",
       "      <td>95.564288</td>\n",
       "      <td>3.879331</td>\n",
       "      <td>32.228092</td>\n",
       "      <td>35.933628</td>\n",
       "      <td>31.108647</td>\n",
       "      <td>67.343566</td>\n",
       "      <td>12.186860</td>\n",
       "      <td>Fast</td>\n",
       "      <td>97.562628</td>\n",
       "      <td>LiFePO4</td>\n",
       "      <td>398</td>\n",
       "      <td>Model A</td>\n",
       "      <td>1</td>\n",
       "    </tr>\n",
       "    <tr>\n",
       "      <th>2</th>\n",
       "      <td>75.879455</td>\n",
       "      <td>4.111062</td>\n",
       "      <td>91.562912</td>\n",
       "      <td>25.009358</td>\n",
       "      <td>30.203219</td>\n",
       "      <td>105.454739</td>\n",
       "      <td>13.832336</td>\n",
       "      <td>Slow</td>\n",
       "      <td>97.233533</td>\n",
       "      <td>LiFePO4</td>\n",
       "      <td>175</td>\n",
       "      <td>Model A</td>\n",
       "      <td>2</td>\n",
       "    </tr>\n",
       "    <tr>\n",
       "      <th>3</th>\n",
       "      <td>63.879264</td>\n",
       "      <td>4.012557</td>\n",
       "      <td>32.459158</td>\n",
       "      <td>32.497482</td>\n",
       "      <td>18.077998</td>\n",
       "      <td>54.000439</td>\n",
       "      <td>9.318874</td>\n",
       "      <td>Fast</td>\n",
       "      <td>98.136225</td>\n",
       "      <td>LiFePO4</td>\n",
       "      <td>150</td>\n",
       "      <td>Model B</td>\n",
       "      <td>1</td>\n",
       "    </tr>\n",
       "    <tr>\n",
       "      <th>4</th>\n",
       "      <td>24.041678</td>\n",
       "      <td>4.064593</td>\n",
       "      <td>34.475475</td>\n",
       "      <td>31.434920</td>\n",
       "      <td>17.984989</td>\n",
       "      <td>106.964968</td>\n",
       "      <td>11.687577</td>\n",
       "      <td>Fast</td>\n",
       "      <td>97.662485</td>\n",
       "      <td>Li-ion</td>\n",
       "      <td>886</td>\n",
       "      <td>Model C</td>\n",
       "      <td>2</td>\n",
       "    </tr>\n",
       "  </tbody>\n",
       "</table>\n",
       "</div>"
      ],
      "text/plain": [
       "     SOC (%)  Voltage (V)  Current (A)  Battery Temp (°C)  Ambient Temp (°C)  \\\n",
       "0  43.708611     3.629593    33.553512          33.454060          26.439918   \n",
       "1  95.564288     3.879331    32.228092          35.933628          31.108647   \n",
       "2  75.879455     4.111062    91.562912          25.009358          30.203219   \n",
       "3  63.879264     4.012557    32.459158          32.497482          18.077998   \n",
       "4  24.041678     4.064593    34.475475          31.434920          17.984989   \n",
       "\n",
       "   Charging Duration (min)  Degradation Rate (%) Charging Mode  \\\n",
       "0                59.363552              8.805096          Fast   \n",
       "1                67.343566             12.186860          Fast   \n",
       "2               105.454739             13.832336          Slow   \n",
       "3                54.000439              9.318874          Fast   \n",
       "4               106.964968             11.687577          Fast   \n",
       "\n",
       "   Efficiency (%) Battery Type  Charging Cycles EV Model  \\\n",
       "0       98.238981       Li-ion              112  Model B   \n",
       "1       97.562628      LiFePO4              398  Model A   \n",
       "2       97.233533      LiFePO4              175  Model A   \n",
       "3       98.136225      LiFePO4              150  Model B   \n",
       "4       97.662485       Li-ion              886  Model C   \n",
       "\n",
       "   Optimal Charging Duration Class  \n",
       "0                                1  \n",
       "1                                1  \n",
       "2                                2  \n",
       "3                                1  \n",
       "4                                2  "
      ]
     },
     "execution_count": 10,
     "metadata": {},
     "output_type": "execute_result"
    }
   ],
   "source": [
    "print(\"Dataset is cleaned\")\n",
    "df.head()"
   ]
  },
  {
   "cell_type": "code",
   "execution_count": 127,
   "id": "a4c8420b-fe33-4efe-9d9a-9943f27b0625",
   "metadata": {},
   "outputs": [],
   "source": [
    "label_encoders = {}\n",
    "categorical_columns = ['Charging Mode', 'Battery Type', 'EV Model']\n",
    "\n",
    "for col in categorical_columns:\n",
    "    le = LabelEncoder()\n",
    "    df[col] = le.fit_transform(df[col])\n",
    "    label_encoders[col] = le\n",
    "\n",
    "X = df.drop(columns=['Optimal Charging Duration Class'])\n",
    "y = df['Optimal Charging Duration Class']\n",
    "\n",
    "scaler = StandardScaler()\n",
    "X_scaled = scaler.fit_transform(X)\n",
    "\n",
    "X_train, X_val_test, y_train, y_val_test = train_test_split(X_scaled, y, test_size=0.3, stratify=y, random_state=42)\n",
    "X_val, X_test, y_val, y_test = train_test_split(X_val_test, y_val_test, test_size=0.5, stratify=y_val_test, random_state=42)\n",
    "\n",
    "smote = SMOTE(sampling_strategy=\"auto\", random_state=42)\n",
    "X_train, y_train = smote.fit_resample(X_train, y_train)\n",
    "\n",
    "noise = np.random.normal(0, 0.15, X_train.shape)\n",
    "X_train_noisy = X_train + noise\n",
    "\n",
    "model = RandomForestClassifier(n_estimators=50, max_depth=5, min_samples_split=10, class_weight=\"balanced\", random_state=42)\n",
    "model.fit(X_train_noisy, y_train)\n",
    "\n",
    "y_pred = model.predict(X_test)\n",
    "\n",
    "with open(\"model/model.pkl\", \"wb\") as f:\n",
    "    pickle.dump(model, f)\n",
    "\n",
    "with open(\"model/scaler.pkl\", \"wb\") as f:\n",
    "    pickle.dump(scaler, f)\n",
    "\n",
    "np.save(\"model/y_test.npy\", y_test)\n",
    "np.save(\"model/y_pred.npy\", y_pred)"
   ]
  },
  {
   "cell_type": "code",
   "execution_count": 128,
   "id": "d83baecc-2c17-496a-8c47-2e13237ca4e2",
   "metadata": {},
   "outputs": [
    {
     "name": "stdout",
     "output_type": "stream",
     "text": [
      "Model Accuracy: 95.33%\n"
     ]
    }
   ],
   "source": [
    "accuracy = accuracy_score(y_test, y_pred)\n",
    "print(f\"Model Accuracy: {accuracy * 100:.2f}%\")\n",
    "\n",
    "metrics = {\"accuracy\": accuracy}\n",
    "with open(\"model/metrics.pkl\", \"wb\") as f:\n",
    "    pickle.dump(metrics, f)"
   ]
  },
  {
   "cell_type": "code",
   "execution_count": 129,
   "id": "e0caf41a-a701-4234-b04b-1d9e6ce56a49",
   "metadata": {},
   "outputs": [
    {
     "data": {
      "image/png": "[encoded data removed]",
      "text/plain": [
       "<Figure size 800x600 with 1 Axes>"
      ]
     },
     "metadata": {},
     "output_type": "display_data"
    }
   ],
   "source": [
    "y_train_true = y_train\n",
    "y_pred_train = model.predict(X_train)\n",
    "\n",
    "y_test_true = y_test\n",
    "y_pred_test = y_pred\n",
    "\n",
    "train_accuracy = accuracy_score(y_train_true, y_pred_train) * 100\n",
    "test_accuracy = accuracy_score(y_test_true, y_pred_test) * 100\n",
    "\n",
    "categories = ['Train Accuracy', 'Test Accuracy']\n",
    "accuracies = [train_accuracy, test_accuracy]\n",
    "\n",
    "plt.figure(figsize=(8, 6))\n",
    "plt.bar(categories, accuracies, color=['blue', 'orange'])\n",
    "plt.xlabel('Accuracy Type')\n",
    "plt.ylabel('Accuracy (%)')\n",
    "plt.title('Train vs Test Accuracy')\n",
    "plt.ylim(0, 100)\n",
    "plt.grid(True)\n",
    "plt.show()"
   ]
  },
  {
   "cell_type": "code",
   "execution_count": 132,
   "id": "0d042ac5-dfaf-4df1-a23d-6eef46f48ca0",
   "metadata": {},
   "outputs": [
    {
     "data": {
      "image/png": "[encoded data removed]",
      "text/plain": [
       "<Figure size 400x300 with 2 Axes>"
      ]
     },
     "metadata": {},
     "output_type": "display_data"
    }
   ],
   "source": [
    "cm = confusion_matrix(y_test, y_pred, labels=[0, 1])\n",
    "TN, FP, FN, TP = cm.ravel()\n",
    "\n",
    "plt.figure(figsize=(4, 3))\n",
    "sns.heatmap(cm, \n",
    "            annot=True, \n",
    "            fmt='g', \n",
    "            cmap=\"Blues\", \n",
    "            xticklabels=['Negative', 'Positive'], \n",
    "            yticklabels=['Negative', 'Positive'])\n",
    "\n",
    "plt.ylabel('Actual', fontsize=13)\n",
    "plt.title('Confusion Matrix', fontsize=17, pad=20)\n",
    "plt.gca().xaxis.set_label_position('top')\n",
    "plt.xlabel('Prediction', fontsize=13)\n",
    "plt.gca().xaxis.tick_top()\n",
    "plt.gca().figure.subplots_adjust(bottom=0.2)\n",
    "plt.gca().figure.text(0.5, 0.05, 'Prediction', ha='center', fontsize=13)\n",
    "plt.savefig(\"static/confusion_matrix.png\", bbox_inches=\"tight\")\n",
    "plt.show()\n",
    "\n",
    "np.save(\"model/y_test.npy\", y_test)\n",
    "np.save(\"model/y_pred.npy\", y_pred)"
   ]
  }
 ],
 "metadata": {
  "kernelspec": {
   "display_name": "Python (tf-gpu)",
   "language": "python",
   "name": "tf-gpu"
  },
  "language_info": {
   "codemirror_mode": {
    "name": "ipython",
    "version": 3
   },
   "file_extension": ".py",
   "mimetype": "text/x-python",
   "name": "python",
   "nbconvert_exporter": "python",
   "pygments_lexer": "ipython3",
   "version": "3.12.8"
  }
 },
 "nbformat": 4,
 "nbformat_minor": 5
}
